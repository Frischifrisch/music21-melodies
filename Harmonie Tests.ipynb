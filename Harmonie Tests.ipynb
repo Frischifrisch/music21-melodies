{
 "cells": [
  {
   "cell_type": "code",
   "execution_count": 1,
   "id": "f4682117",
   "metadata": {},
   "outputs": [],
   "source": [
    "from music21 import *"
   ]
  },
  {
   "cell_type": "code",
   "execution_count": 2,
   "id": "1ee53867",
   "metadata": {},
   "outputs": [
    {
     "data": {
      "image/png": "[encoded data removed]",
      "text/plain": [
       "<IPython.core.display.Image object>"
      ]
     },
     "metadata": {
      "image/png": {
       "height": 49,
       "width": 169
      }
     },
     "output_type": "display_data"
    }
   ],
   "source": [
    "c = note.Note('C4', quarterLength=4)\n",
    "c.show()"
   ]
  },
  {
   "cell_type": "code",
   "execution_count": 3,
   "id": "e7589f37",
   "metadata": {},
   "outputs": [
    {
     "data": {
      "text/html": [
       "\n",
       "                <div id='midiPlayerDiv64'></div>\n",
       "                <link rel=\"stylesheet\" href=\"//cuthbertLab.github.io/music21j/css/m21.css\"\n",
       "                    type=\"text/css\" />\n",
       "                \n",
       "                <script>\n",
       "                require.config({\n",
       "                    paths: {'music21': '//cuthbertLab.github.io/music21j/src/music21'}\n",
       "                });\n",
       "                require(['music21'], function() {\n",
       "                               mp = new music21.miditools.MidiPlayer();\n",
       "                               mp.addPlayer('#midiPlayerDiv64');\n",
       "                               mp.base64Load('data:audio/midi;base64,TVRoZAAAAAYAAQACBABNVHJrAAAAFAD/UQMHoSAA/1gEBAIYCIgA/y8ATVRyawAAABcA/wMAAOAAQIgAkDxaoACAPACIAP8vAA==');\n",
       "                        });\n",
       "                </script>"
      ],
      "text/plain": [
       "<IPython.core.display.HTML object>"
      ]
     },
     "metadata": {},
     "output_type": "display_data"
    }
   ],
   "source": [
    "c.show('midi')"
   ]
  },
  {
   "cell_type": "code",
   "execution_count": 4,
   "id": "1e6e52ae",
   "metadata": {},
   "outputs": [
    {
     "data": {
      "image/png": "[encoded data removed]",
      "text/plain": [
       "<IPython.core.display.Image object>"
      ]
     },
     "metadata": {
      "image/png": {
       "height": 49,
       "width": 164
      }
     },
     "output_type": "display_data"
    }
   ],
   "source": [
    "e = c.transpose('M3')\n",
    "e.show()"
   ]
  },
  {
   "cell_type": "code",
   "execution_count": 5,
   "id": "7b00aa0d",
   "metadata": {},
   "outputs": [
    {
     "data": {
      "image/png": "[encoded data removed]",
      "text/plain": [
       "<IPython.core.display.Image object>"
      ]
     },
     "metadata": {
      "image/png": {
       "height": 49,
       "width": 164
      }
     },
     "output_type": "display_data"
    }
   ],
   "source": [
    "g = e.transpose('m3')\n",
    "g.show()"
   ]
  },
  {
   "cell_type": "code",
   "execution_count": 6,
   "id": "9e8693e3",
   "metadata": {},
   "outputs": [
    {
     "data": {
      "image/png": "[encoded data removed]",
      "text/plain": [
       "<IPython.core.display.Image object>"
      ]
     },
     "metadata": {
      "image/png": {
       "height": 49,
       "width": 169
      }
     },
     "output_type": "display_data"
    }
   ],
   "source": [
    "c_dur = chord.Chord([c, e, g])\n",
    "c_dur.show()"
   ]
  },
  {
   "cell_type": "code",
   "execution_count": 7,
   "id": "0e8562dc",
   "metadata": {},
   "outputs": [
    {
     "data": {
      "text/html": [
       "\n",
       "                <div id='midiPlayerDiv231'></div>\n",
       "                <link rel=\"stylesheet\" href=\"//cuthbertLab.github.io/music21j/css/m21.css\"\n",
       "                    type=\"text/css\" />\n",
       "                \n",
       "                <script>\n",
       "                require.config({\n",
       "                    paths: {'music21': '//cuthbertLab.github.io/music21j/src/music21'}\n",
       "                });\n",
       "                require(['music21'], function() {\n",
       "                               mp = new music21.miditools.MidiPlayer();\n",
       "                               mp.addPlayer('#midiPlayerDiv231');\n",
       "                               mp.base64Load('data:audio/midi;base64,TVRoZAAAAAYAAQACBABNVHJrAAAAFAD/UQMHoSAA/1gEBAIYCIgA/y8ATVRyawAAACcA/wMAAOAAQIgAkDxaAJBAWgCQQ1qgAIA8AACAQAAAgEMAiAD/LwA=');\n",
       "                        });\n",
       "                </script>"
      ],
      "text/plain": [
       "<IPython.core.display.HTML object>"
      ]
     },
     "metadata": {},
     "output_type": "display_data"
    }
   ],
   "source": [
    "c_dur.show('midi')"
   ]
  },
  {
   "cell_type": "code",
   "execution_count": 8,
   "id": "d97af785",
   "metadata": {},
   "outputs": [],
   "source": [
    "from enum import Enum\n",
    "class MajorMinor(Enum):\n",
    "    MAJOR = 1\n",
    "    MINOR = 0"
   ]
  },
  {
   "cell_type": "code",
   "execution_count": 9,
   "id": "432c9721",
   "metadata": {},
   "outputs": [],
   "source": [
    "def build_chord(base_tone: note.Note, major_minor: MajorMinor = MajorMinor.MAJOR):\n",
    "    intervals = ('M3', 'm3') if major_minor == MajorMinor.MAJOR else ('m3', 'M3')\n",
    "    second_tone = base_tone.transpose(intervals[0])\n",
    "    third_tone = second_tone.transpose(intervals[1])\n",
    "    return chord.Chord([base_tone, second_tone, third_tone])"
   ]
  },
  {
   "cell_type": "code",
   "execution_count": 10,
   "id": "e3348696",
   "metadata": {},
   "outputs": [
    {
     "data": {
      "image/png": "[encoded data removed]",
      "text/plain": [
       "<IPython.core.display.Image object>"
      ]
     },
     "metadata": {
      "image/png": {
       "height": 49,
       "width": 169
      }
     },
     "output_type": "display_data"
    }
   ],
   "source": [
    "c_dur = build_chord(c, MajorMinor.MAJOR)\n",
    "c_dur.show()"
   ]
  },
  {
   "cell_type": "code",
   "execution_count": 11,
   "id": "a3ce947d",
   "metadata": {},
   "outputs": [
    {
     "data": {
      "image/png": "[encoded data removed]",
      "text/plain": [
       "<IPython.core.display.Image object>"
      ]
     },
     "metadata": {
      "image/png": {
       "height": 49,
       "width": 164
      }
     },
     "output_type": "display_data"
    }
   ],
   "source": [
    "g = c.transpose('P5')\n",
    "g.show()"
   ]
  },
  {
   "cell_type": "code",
   "execution_count": 12,
   "id": "23be54b6",
   "metadata": {},
   "outputs": [
    {
     "data": {
      "image/png": "[encoded data removed]",
      "text/plain": [
       "<IPython.core.display.Image object>"
      ]
     },
     "metadata": {
      "image/png": {
       "height": 49,
       "width": 158
      }
     },
     "output_type": "display_data"
    }
   ],
   "source": [
    "g_dur = build_chord(g, MajorMinor.MAJOR)\n",
    "g_dur.show()"
   ]
  },
  {
   "cell_type": "code",
   "execution_count": 13,
   "id": "a110d1e2",
   "metadata": {},
   "outputs": [
    {
     "data": {
      "text/html": [
       "\n",
       "                <div id='midiPlayerDiv403'></div>\n",
       "                <link rel=\"stylesheet\" href=\"//cuthbertLab.github.io/music21j/css/m21.css\"\n",
       "                    type=\"text/css\" />\n",
       "                \n",
       "                <script>\n",
       "                require.config({\n",
       "                    paths: {'music21': '//cuthbertLab.github.io/music21j/src/music21'}\n",
       "                });\n",
       "                require(['music21'], function() {\n",
       "                               mp = new music21.miditools.MidiPlayer();\n",
       "                               mp.addPlayer('#midiPlayerDiv403');\n",
       "                               mp.base64Load('data:audio/midi;base64,TVRoZAAAAAYAAQACBABNVHJrAAAAFAD/UQMHoSAA/1gEBAIYCIgA/y8ATVRyawAAAEAA/wMAAOAAQIgAkDxaAJBAWgCQQ1qgAIA8AACAQAAAgEMAAJBDWgCQR1oAkEpaoACAQwAAgEcAAIBKAIgA/y8A');\n",
       "                        });\n",
       "                </script>"
      ],
      "text/plain": [
       "<IPython.core.display.HTML object>"
      ]
     },
     "metadata": {},
     "output_type": "display_data"
    }
   ],
   "source": [
    "stream.Stream([c_dur, g_dur]).show('midi')"
   ]
  },
  {
   "cell_type": "code",
   "execution_count": 14,
   "id": "21eaf230",
   "metadata": {},
   "outputs": [
    {
     "name": "stdout",
     "output_type": "stream",
     "text": [
      "5\n"
     ]
    },
    {
     "data": {
      "image/png": "[encoded data removed]",
      "text/plain": [
       "<IPython.core.display.Image object>"
      ]
     },
     "metadata": {
      "image/png": {
       "height": 49,
       "width": 164
      }
     },
     "output_type": "display_data"
    }
   ],
   "source": [
    "d2 = g.transpose('P5')\n",
    "print(d2.octave)\n",
    "d1 = note.Note('D4', quarterLength=4)\n",
    "chord.Chord([d1, d2]).show()"
   ]
  },
  {
   "cell_type": "code",
   "execution_count": 15,
   "id": "ca26085e",
   "metadata": {},
   "outputs": [],
   "source": [
    "def transpose_to_fourth_octave(note: note.Note):\n",
    "    while note.octave > 4:\n",
    "        note = note.transpose('P-8')\n",
    "    while note.octave < 4:\n",
    "        note = note.transpose('P8')\n",
    "    return note"
   ]
  },
  {
   "cell_type": "code",
   "execution_count": 16,
   "id": "9677dd9e",
   "metadata": {},
   "outputs": [
    {
     "data": {
      "image/png": "[encoded data removed]",
      "text/plain": [
       "<IPython.core.display.Image object>"
      ]
     },
     "metadata": {
      "image/png": {
       "height": 49,
       "width": 233
      }
     },
     "output_type": "display_data"
    }
   ],
   "source": [
    "stream.Stream([d1, transpose_to_fourth_octave(d2)]).show()"
   ]
  },
  {
   "cell_type": "code",
   "execution_count": 17,
   "id": "9140da03",
   "metadata": {},
   "outputs": [],
   "source": [
    "from random import choice\n",
    "def create_random_chord_stream(length):\n",
    "    directions = [(MajorMinor.MAJOR, 'P-5'), (MajorMinor.MINOR, 'P-5'), \n",
    "                  (MajorMinor.MAJOR, 0), (MajorMinor.MINOR, 0), \n",
    "                  (MajorMinor.MAJOR, 'P5'), (MajorMinor.MINOR, 'P5')]\n",
    "    major_minor = choice((MajorMinor.MAJOR, MajorMinor.MINOR))\n",
    "    last_chord = build_chord(note.Note('C4', quarterLength=2), major_minor)\n",
    "    s = stream.Stream()\n",
    "    for i in range(length):\n",
    "        changing_directions = directions.copy()\n",
    "        changing_directions.pop(directions.index((major_minor, 0)))\n",
    "        direction = choice(changing_directions)\n",
    "        print(direction)\n",
    "        new_chord = build_chord(transpose_to_fourth_octave(\n",
    "            last_chord.notes[0].transpose(direction[1])), direction[0])\n",
    "        s.append(new_chord)\n",
    "        last_chord = new_chord\n",
    "        major_minor = direction[0]\n",
    "    return s"
   ]
  },
  {
   "cell_type": "code",
   "execution_count": 18,
   "id": "6cd5f423",
   "metadata": {},
   "outputs": [
    {
     "name": "stdout",
     "output_type": "stream",
     "text": [
      "(<MajorMinor.MINOR: 0>, 'P5')\n",
      "(<MajorMinor.MAJOR: 1>, 'P-5')\n",
      "(<MajorMinor.MINOR: 0>, 'P5')\n",
      "(<MajorMinor.MINOR: 0>, 'P-5')\n",
      "(<MajorMinor.MINOR: 0>, 'P5')\n",
      "(<MajorMinor.MINOR: 0>, 'P5')\n",
      "(<MajorMinor.MAJOR: 1>, 'P-5')\n",
      "(<MajorMinor.MAJOR: 1>, 'P-5')\n",
      "(<MajorMinor.MAJOR: 1>, 'P5')\n",
      "(<MajorMinor.MINOR: 0>, 0)\n",
      "(<MajorMinor.MINOR: 0>, 'P-5')\n",
      "(<MajorMinor.MAJOR: 1>, 'P-5')\n",
      "(<MajorMinor.MINOR: 0>, 'P-5')\n",
      "(<MajorMinor.MINOR: 0>, 'P5')\n",
      "(<MajorMinor.MINOR: 0>, 'P-5')\n",
      "(<MajorMinor.MAJOR: 1>, 'P-5')\n"
     ]
    },
    {
     "data": {
      "image/png": "[encoded data removed]",
      "text/plain": [
       "<IPython.core.display.Image object>"
      ]
     },
     "metadata": {
      "image/png": {
       "height": 52,
       "width": 748
      }
     },
     "output_type": "display_data"
    }
   ],
   "source": [
    "chord_stream = create_random_chord_stream(16)\n",
    "chord_stream.show()"
   ]
  },
  {
   "cell_type": "code",
   "execution_count": 19,
   "id": "a8541feb",
   "metadata": {},
   "outputs": [
    {
     "data": {
      "text/html": [
       "\n",
       "                <div id='midiPlayerDiv1237'></div>\n",
       "                <link rel=\"stylesheet\" href=\"//cuthbertLab.github.io/music21j/css/m21.css\"\n",
       "                    type=\"text/css\" />\n",
       "                \n",
       "                <script>\n",
       "                require.config({\n",
       "                    paths: {'music21': '//cuthbertLab.github.io/music21j/src/music21'}\n",
       "                });\n",
       "                require(['music21'], function() {\n",
       "                               mp = new music21.miditools.MidiPlayer();\n",
       "                               mp.addPlayer('#midiPlayerDiv1237');\n",
       "                               mp.base64Load('data:audio/midi;base64,TVRoZAAAAAYAAQACBABNVHJrAAAAFAD/UQMHoSAA/1gEBAIYCIgA/y8ATVRyawAAAZ4A/wMAAOAAQIgAkENaAJBGWgCQSlqQAIBDAACARgAAgEoAAJA8WgCQQFoAkENakACAPAAAgEAAAIBDAACQQ1oAkEZaAJBKWpAAgEMAAIBGAACASgAAkDxaAJA/WgCQQ1qQAIA8AACAPwAAgEMAAJBDWgCQRloAkEpakACAQwAAgEYAAIBKAACQPloAkEFaAJBFWpAAgD4AAIBBAACARQAAkENaAJBHWgCQSlqQAIBDAACARwAAgEoAAJA8WgCQQFoAkENakACAPAAAgEAAAIBDAACQQ1oAkEdaAJBKWpAAgEMAAIBHAACASgAAkENaAJBGWgCQSlqQAIBDAACARgAAgEoAAJA8WgCQP1oAkENakACAPAAAgD8AAIBDAACQQVoAkEVaAJBIWpAAgEEAAIBFAACASAAAkEZaAJBJWgCQTVqQAIBGAACASQAAgE0AAJBBWgCQRFoAkEhakACAQQAAgEQAAIBIAACQRloAkElaAJBNWpAAgEYAAIBJAACATQAAkD9aAJBDWgCQRlqQAIA/AACAQwAAgEYAiAD/LwA=');\n",
       "                        });\n",
       "                </script>"
      ],
      "text/plain": [
       "<IPython.core.display.HTML object>"
      ]
     },
     "metadata": {},
     "output_type": "display_data"
    }
   ],
   "source": [
    "chord_stream.show('midi')"
   ]
  },
  {
   "cell_type": "code",
   "execution_count": null,
   "id": "2e582e8f",
   "metadata": {},
   "outputs": [],
   "source": []
  }
 ],
 "metadata": {
  "kernelspec": {
   "display_name": "Python 3 (ipykernel)",
   "language": "python",
   "name": "python3"
  },
  "language_info": {
   "codemirror_mode": {
    "name": "ipython",
    "version": 3
   },
   "file_extension": ".py",
   "mimetype": "text/x-python",
   "name": "python",
   "nbconvert_exporter": "python",
   "pygments_lexer": "ipython3",
   "version": "3.10.4"
  }
 },
 "nbformat": 4,
 "nbformat_minor": 5
}
