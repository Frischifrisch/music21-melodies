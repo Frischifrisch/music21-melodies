{
 "cells": [
  {
   "cell_type": "markdown",
   "id": "b6d34d40",
   "metadata": {},
   "source": [
    "## Getting started\n",
    "\n",
    "Music21 encapsulates most concepts from music theory in some kind of object. There are pitches, notes intervals chords. Melodies are created by packing notes and chords into stream objects and all the objects come with handy methods to modify them or create related new objects.\n",
    "\n",
    "Because there are a bunch of different classes it is best to import then all in the first line:"
   ]
  },
  {
   "cell_type": "code",
   "execution_count": 1,
   "id": "f4682117",
   "metadata": {},
   "outputs": [],
   "source": [
    "from music21 import *"
   ]
  },
  {
   "cell_type": "markdown",
   "id": "62dbe82a",
   "metadata": {},
   "source": [
    "Creating a note is very easy. It's just a `Note` object from the `note` submodule. You could create it with a `Pitch` object but music21 has short string notations which are very easy: `'C4'` simply creates a C in the fourth octave, the base note of the C major scale. If no duration is given music21 assumes a quarter note but the `quarterLength` parameter sets it right in the constructor. The method `.show()` creates a PNG image of the nostation an the jupyter notebook displadys it directly beneath the cell."
   ]
  },
  {
   "cell_type": "code",
   "execution_count": 2,
   "id": "1ee53867",
   "metadata": {},
   "outputs": [
    {
     "data": {
      "image/png": "[encoded data removed]",
      "text/plain": [
       "<IPython.core.display.Image object>"
      ]
     },
     "metadata": {
      "image/png": {
       "height": 49,
       "width": 169
      }
     },
     "output_type": "display_data"
    }
   ],
   "source": [
    "c = note.Note('C4', quarterLength=4)\n",
    "c.show()"
   ]
  },
  {
   "cell_type": "markdown",
   "id": "b017299e",
   "metadata": {},
   "source": [
    "music21 can also create a midi version of the object. You can unse the embedded player to play it inside of the notebook."
   ]
  },
  {
   "cell_type": "code",
   "execution_count": 3,
   "id": "e7589f37",
   "metadata": {},
   "outputs": [
    {
     "data": {
      "text/html": [
       "\n",
       "                <div id='midiPlayerDiv64'></div>\n",
       "                <link rel=\"stylesheet\" href=\"//cuthbertLab.github.io/music21j/css/m21.css\"\n",
       "                    type=\"text/css\" />\n",
       "                \n",
       "                <script>\n",
       "                require.config({\n",
       "                    paths: {'music21': '//cuthbertLab.github.io/music21j/src/music21'}\n",
       "                });\n",
       "                require(['music21'], function() {\n",
       "                               mp = new music21.miditools.MidiPlayer();\n",
       "                               mp.addPlayer('#midiPlayerDiv64');\n",
       "                               mp.base64Load('data:audio/midi;base64,TVRoZAAAAAYAAQACBABNVHJrAAAAFAD/UQMHoSAA/1gEBAIYCIgA/y8ATVRyawAAABcA/wMAAOAAQIgAkDxaoACAPACIAP8vAA==');\n",
       "                        });\n",
       "                </script>"
      ],
      "text/plain": [
       "<IPython.core.display.HTML object>"
      ]
     },
     "metadata": {},
     "output_type": "display_data"
    }
   ],
   "source": [
    "c.show('midi')"
   ]
  },
  {
   "cell_type": "markdown",
   "id": "effa57d8",
   "metadata": {},
   "source": [
    "## Creating a random chord sequence\n",
    "\n",
    "By transposing the base note along the intervals major third `M3`, minor third `m3` and perfect fith `P5` one can create chords. Building a random sequence out of these creates a first algorithmic composition."
   ]
  },
  {
   "cell_type": "code",
   "execution_count": 4,
   "id": "1e6e52ae",
   "metadata": {},
   "outputs": [
    {
     "data": {
      "image/png": "[encoded data removed]",
      "text/plain": [
       "<IPython.core.display.Image object>"
      ]
     },
     "metadata": {
      "image/png": {
       "height": 49,
       "width": 164
      }
     },
     "output_type": "display_data"
    }
   ],
   "source": [
    "e = c.transpose('M3')\n",
    "e.show()"
   ]
  },
  {
   "cell_type": "code",
   "execution_count": 5,
   "id": "7b00aa0d",
   "metadata": {},
   "outputs": [
    {
     "data": {
      "image/png": "[encoded data removed]",
      "text/plain": [
       "<IPython.core.display.Image object>"
      ]
     },
     "metadata": {
      "image/png": {
       "height": 49,
       "width": 164
      }
     },
     "output_type": "display_data"
    }
   ],
   "source": [
    "g = e.transpose('m3')\n",
    "g.show()"
   ]
  },
  {
   "cell_type": "code",
   "execution_count": 6,
   "id": "9e8693e3",
   "metadata": {},
   "outputs": [
    {
     "data": {
      "image/png": "[encoded data removed]",
      "text/plain": [
       "<IPython.core.display.Image object>"
      ]
     },
     "metadata": {
      "image/png": {
       "height": 49,
       "width": 169
      }
     },
     "output_type": "display_data"
    }
   ],
   "source": [
    "c_dur = chord.Chord([c, e, g])\n",
    "c_dur.show()"
   ]
  },
  {
   "cell_type": "code",
   "execution_count": 7,
   "id": "0e8562dc",
   "metadata": {},
   "outputs": [
    {
     "data": {
      "text/html": [
       "\n",
       "                <div id='midiPlayerDiv231'></div>\n",
       "                <link rel=\"stylesheet\" href=\"//cuthbertLab.github.io/music21j/css/m21.css\"\n",
       "                    type=\"text/css\" />\n",
       "                \n",
       "                <script>\n",
       "                require.config({\n",
       "                    paths: {'music21': '//cuthbertLab.github.io/music21j/src/music21'}\n",
       "                });\n",
       "                require(['music21'], function() {\n",
       "                               mp = new music21.miditools.MidiPlayer();\n",
       "                               mp.addPlayer('#midiPlayerDiv231');\n",
       "                               mp.base64Load('data:audio/midi;base64,TVRoZAAAAAYAAQACBABNVHJrAAAAFAD/UQMHoSAA/1gEBAIYCIgA/y8ATVRyawAAACcA/wMAAOAAQIgAkDxaAJBAWgCQQ1qgAIA8AACAQAAAgEMAiAD/LwA=');\n",
       "                        });\n",
       "                </script>"
      ],
      "text/plain": [
       "<IPython.core.display.HTML object>"
      ]
     },
     "metadata": {},
     "output_type": "display_data"
    }
   ],
   "source": [
    "c_dur.show('midi')"
   ]
  },
  {
   "cell_type": "code",
   "execution_count": 8,
   "id": "d97af785",
   "metadata": {},
   "outputs": [],
   "source": [
    "from circle_of_fiths import MajorMinor"
   ]
  },
  {
   "cell_type": "code",
   "execution_count": 9,
   "id": "432c9721",
   "metadata": {},
   "outputs": [],
   "source": [
    "def build_chord(base_tone: note.Note, major_minor: MajorMinor = MajorMinor.MAJOR):\n",
    "    intervals = ('M3', 'm3') if major_minor == MajorMinor.MAJOR else ('m3', 'M3')\n",
    "    second_tone = base_tone.transpose(intervals[0])\n",
    "    third_tone = second_tone.transpose(intervals[1])\n",
    "    return chord.Chord([base_tone, second_tone, third_tone])"
   ]
  },
  {
   "cell_type": "code",
   "execution_count": 10,
   "id": "e3348696",
   "metadata": {},
   "outputs": [
    {
     "data": {
      "image/png": "[encoded data removed]",
      "text/plain": [
       "<IPython.core.display.Image object>"
      ]
     },
     "metadata": {
      "image/png": {
       "height": 49,
       "width": 169
      }
     },
     "output_type": "display_data"
    }
   ],
   "source": [
    "c_dur = build_chord(c, MajorMinor.MAJOR)\n",
    "c_dur.show()"
   ]
  },
  {
   "cell_type": "code",
   "execution_count": 11,
   "id": "a3ce947d",
   "metadata": {},
   "outputs": [
    {
     "data": {
      "image/png": "[encoded data removed]",
      "text/plain": [
       "<IPython.core.display.Image object>"
      ]
     },
     "metadata": {
      "image/png": {
       "height": 49,
       "width": 164
      }
     },
     "output_type": "display_data"
    }
   ],
   "source": [
    "g = c.transpose('P5')\n",
    "g.show()"
   ]
  },
  {
   "cell_type": "code",
   "execution_count": 12,
   "id": "23be54b6",
   "metadata": {},
   "outputs": [
    {
     "data": {
      "image/png": "[encoded data removed]",
      "text/plain": [
       "<IPython.core.display.Image object>"
      ]
     },
     "metadata": {
      "image/png": {
       "height": 49,
       "width": 158
      }
     },
     "output_type": "display_data"
    }
   ],
   "source": [
    "g_dur = build_chord(g, MajorMinor.MAJOR)\n",
    "g_dur.show()"
   ]
  },
  {
   "cell_type": "code",
   "execution_count": 13,
   "id": "a110d1e2",
   "metadata": {},
   "outputs": [
    {
     "data": {
      "text/html": [
       "\n",
       "                <div id='midiPlayerDiv403'></div>\n",
       "                <link rel=\"stylesheet\" href=\"//cuthbertLab.github.io/music21j/css/m21.css\"\n",
       "                    type=\"text/css\" />\n",
       "                \n",
       "                <script>\n",
       "                require.config({\n",
       "                    paths: {'music21': '//cuthbertLab.github.io/music21j/src/music21'}\n",
       "                });\n",
       "                require(['music21'], function() {\n",
       "                               mp = new music21.miditools.MidiPlayer();\n",
       "                               mp.addPlayer('#midiPlayerDiv403');\n",
       "                               mp.base64Load('data:audio/midi;base64,TVRoZAAAAAYAAQACBABNVHJrAAAAFAD/UQMHoSAA/1gEBAIYCIgA/y8ATVRyawAAAEAA/wMAAOAAQIgAkDxaAJBAWgCQQ1qgAIA8AACAQAAAgEMAAJBDWgCQR1oAkEpaoACAQwAAgEcAAIBKAIgA/y8A');\n",
       "                        });\n",
       "                </script>"
      ],
      "text/plain": [
       "<IPython.core.display.HTML object>"
      ]
     },
     "metadata": {},
     "output_type": "display_data"
    }
   ],
   "source": [
    "stream.Stream([c_dur, g_dur]).show('midi')"
   ]
  },
  {
   "cell_type": "code",
   "execution_count": 14,
   "id": "21eaf230",
   "metadata": {},
   "outputs": [
    {
     "name": "stdout",
     "output_type": "stream",
     "text": [
      "5\n"
     ]
    },
    {
     "data": {
      "image/png": "[encoded data removed]",
      "text/plain": [
       "<IPython.core.display.Image object>"
      ]
     },
     "metadata": {
      "image/png": {
       "height": 49,
       "width": 164
      }
     },
     "output_type": "display_data"
    }
   ],
   "source": [
    "d2 = g.transpose('P5')\n",
    "print(d2.octave)\n",
    "d1 = note.Note('D4', quarterLength=4)\n",
    "chord.Chord([d1, d2]).show()"
   ]
  },
  {
   "cell_type": "code",
   "execution_count": 15,
   "id": "ca26085e",
   "metadata": {},
   "outputs": [],
   "source": [
    "def transpose_to_fourth_octave(tone: note.Note):\n",
    "    while tone.octave > 4:\n",
    "        tone = tone.transpose('P-8')\n",
    "    while tone.octave < 4:\n",
    "        tone = tone.transpose('P8')\n",
    "    return tone"
   ]
  },
  {
   "cell_type": "code",
   "execution_count": 16,
   "id": "9677dd9e",
   "metadata": {},
   "outputs": [
    {
     "data": {
      "image/png": "[encoded data removed]",
      "text/plain": [
       "<IPython.core.display.Image object>"
      ]
     },
     "metadata": {
      "image/png": {
       "height": 49,
       "width": 233
      }
     },
     "output_type": "display_data"
    }
   ],
   "source": [
    "stream.Stream([d1, transpose_to_fourth_octave(d2)]).show()"
   ]
  },
  {
   "cell_type": "code",
   "execution_count": 17,
   "id": "2a3d68ca",
   "metadata": {},
   "outputs": [],
   "source": [
    "from circle_of_fiths import CircleOfFifths, major, minor\n",
    "cf = CircleOfFifths()"
   ]
  },
  {
   "cell_type": "code",
   "execution_count": 18,
   "id": "9140da03",
   "metadata": {},
   "outputs": [],
   "source": [
    "from random import choice, randint\n",
    "def create_random_chord_stream(length, note_length=2):\n",
    "    directions = [(major, -1), (minor, -1), \n",
    "                  (major, 0), (minor, 0), \n",
    "                  (major, 1), (minor, 1)]\n",
    "    major_minor = choice((major, minor))\n",
    "    chord_number = randint(0, 11)\n",
    "    base_note = cf.base_note(chord_number)\n",
    "    base_note.quarterLength = 2\n",
    "    chord = build_chord(base_note, major_minor)\n",
    "    s = stream.Stream()\n",
    "    s.append(chord)\n",
    "    for i in range(length):\n",
    "        changing_directions = directions.copy()\n",
    "        changing_directions.pop(directions.index((major_minor, 0)))\n",
    "        direction = choice(changing_directions)\n",
    "        chord_number += direction[1]\n",
    "        base_note = cf.base_note(chord_number % 12)\n",
    "        base_note.quarterLength = 2\n",
    "        base_note = transpose_to_fourth_octave(base_note)\n",
    "        chord = build_chord(base_note, direction[0])\n",
    "        s.append(chord)\n",
    "        major_minor = direction[0]\n",
    "    return s"
   ]
  },
  {
   "cell_type": "code",
   "execution_count": 19,
   "id": "6cd5f423",
   "metadata": {},
   "outputs": [
    {
     "data": {
      "image/png": "[encoded data removed]",
      "text/plain": [
       "<IPython.core.display.Image object>"
      ]
     },
     "metadata": {
      "image/png": {
       "height": 50,
       "width": 748
      }
     },
     "output_type": "display_data"
    }
   ],
   "source": [
    "chord_stream = create_random_chord_stream(16)\n",
    "chord_stream.show()"
   ]
  },
  {
   "cell_type": "code",
   "execution_count": 20,
   "id": "a8541feb",
   "metadata": {},
   "outputs": [
    {
     "data": {
      "text/html": [
       "\n",
       "                <div id='midiPlayerDiv1415'></div>\n",
       "                <link rel=\"stylesheet\" href=\"//cuthbertLab.github.io/music21j/css/m21.css\"\n",
       "                    type=\"text/css\" />\n",
       "                \n",
       "                <script>\n",
       "                require.config({\n",
       "                    paths: {'music21': '//cuthbertLab.github.io/music21j/src/music21'}\n",
       "                });\n",
       "                require(['music21'], function() {\n",
       "                               mp = new music21.miditools.MidiPlayer();\n",
       "                               mp.addPlayer('#midiPlayerDiv1415');\n",
       "                               mp.base64Load('data:audio/midi;base64,TVRoZAAAAAYAAQACBABNVHJrAAAAFAD/UQMHoSAA/1gEBAIYCIgA/y8ATVRyawAAAbcA/wMAAOAAQIgAkERaAJBHWgCQS1qQAIBEAACARwAAgEsAAJBEWgCQSFoAkEtakACARAAAgEgAAIBLAACQPVoAkEFaAJBEWpAAgD0AAIBBAACARAAAkERaAJBIWgCQS1qQAIBEAACASAAAgEsAAJBEWgCQR1oAkEtakACARAAAgEcAAIBLAACQP1oAkEJaAJBGWpAAgD8AAIBCAACARgAAkERaAJBHWgCQS1qQAIBEAACARwAAgEsAAJA9WgCQQVoAkERakACAPQAAgEEAAIBEAACQRFoAkEhaAJBLWpAAgEQAAIBIAACASwAAkD1aAJBAWgCQRFqQAIA9AACAQAAAgEQAAJBEWgCQR1oAkEtakACARAAAgEcAAIBLAACQPVoAkEFaAJBEWpAAgD0AAIBBAACARAAAkEJaAJBFWgCQSVqQAIBCAACARQAAgEkAAJBHWgCQSloAkE5akACARwAAgEoAAIBOAACQQloAkEVaAJBJWpAAgEIAAIBFAACASQAAkEJaAJBGWgCQSVqQAIBCAACARgAAgEkAAJBHWgCQSloAkE5akACARwAAgEoAAIBOAIgA/y8A');\n",
       "                        });\n",
       "                </script>"
      ],
      "text/plain": [
       "<IPython.core.display.HTML object>"
      ]
     },
     "metadata": {},
     "output_type": "display_data"
    }
   ],
   "source": [
    "chord_stream.show('midi')"
   ]
  },
  {
   "cell_type": "markdown",
   "id": "4afd6261",
   "metadata": {},
   "source": [
    "## Chord inversions\n",
    "\n",
    "By transposing some notes of a chord a full octave inversions of the chord are created. These can sound lower than the previous chord even if the base tone of the chord is a fith higher."
   ]
  },
  {
   "cell_type": "code",
   "execution_count": 21,
   "id": "987f0e04",
   "metadata": {},
   "outputs": [],
   "source": [
    "def build_chord(base_tone: note.Note, major_minor: MajorMinor = major, inversion=0):\n",
    "    intervals = ('M3', 'm3') if major_minor == major else ('m3', 'M3')\n",
    "    second_tone = base_tone.transpose(intervals[0])\n",
    "    third_tone = second_tone.transpose(intervals[1])\n",
    "    if inversion >= 1:\n",
    "        base_tone = base_tone.transpose('P8')\n",
    "    if inversion >= 2:\n",
    "        second_tone = second_tone.transpose('P8')\n",
    "    return chord.Chord([base_tone, second_tone, third_tone])"
   ]
  },
  {
   "cell_type": "code",
   "execution_count": 22,
   "id": "a48fecaf",
   "metadata": {},
   "outputs": [
    {
     "name": "stdout",
     "output_type": "stream",
     "text": [
      "[<music21.note.Note E>, <music21.note.Note G>, <music21.note.Note C>]\n",
      "[<music21.note.Note G>, <music21.note.Note C>, <music21.note.Note E>]\n"
     ]
    },
    {
     "data": {
      "image/png": "[encoded data removed]",
      "text/plain": [
       "<IPython.core.display.Image object>"
      ]
     },
     "metadata": {
      "image/png": {
       "height": 49,
       "width": 391
      }
     },
     "output_type": "display_data"
    }
   ],
   "source": [
    "c_6_dur = build_chord(note.Note('C4', quarterLength=4), major, inversion=1)\n",
    "print(sorted(c_6_dur.notes, key=lambda x: x.pitch))\n",
    "c_quart_6_dur = build_chord(note.Note('C4', quarterLength=4), major, inversion=2)\n",
    "print(sorted(c_quart_6_dur.notes, key=lambda x: x.pitch))\n",
    "stream.Stream([c_dur, c_6_dur, c_quart_6_dur, c_dur.transpose('P8')]).show()"
   ]
  },
  {
   "cell_type": "code",
   "execution_count": 23,
   "id": "f279db21",
   "metadata": {},
   "outputs": [],
   "source": [
    "def get_lowest_note_of_chord(chord: chord.Chord):\n",
    "    return sorted(chord.notes, key=lambda x: x.pitch)[0]"
   ]
  },
  {
   "cell_type": "code",
   "execution_count": 24,
   "id": "57bb9595",
   "metadata": {},
   "outputs": [],
   "source": [
    "def transpose_chord_to_fourth_octave(chord: chord.Chord):\n",
    "    while get_lowest_note_of_chord(chord).octave > 4:\n",
    "        chord = chord.transpose('P-8')\n",
    "    while get_lowest_note_of_chord(chord).octave < 4:\n",
    "        chord = chord.transpose('P8')\n",
    "    return chord"
   ]
  },
  {
   "cell_type": "code",
   "execution_count": 25,
   "id": "ce763605",
   "metadata": {},
   "outputs": [],
   "source": [
    "def build_chord_and_select_inversion(base_tone: note.Note, major_minor: MajorMinor, prev_base_tone: note.Note):\n",
    "    chord = transpose_chord_to_fourth_octave(build_chord(base_tone, major_minor, inversion=0))\n",
    "    chord6 = transpose_chord_to_fourth_octave(build_chord(base_tone, major_minor, inversion=1))\n",
    "    chordq6 = transpose_chord_to_fourth_octave(build_chord(base_tone, major_minor, inversion=1))\n",
    "    return sorted([chord, chord6, chordq6], \n",
    "                  key=lambda x: interval.Interval(prev_base_tone, get_lowest_note_of_chord(x)).semitones)[0]"
   ]
  },
  {
   "cell_type": "code",
   "execution_count": 26,
   "id": "8df70e03",
   "metadata": {},
   "outputs": [],
   "source": [
    "def create_random_chord_stream(length, note_length=2):\n",
    "    directions = [(major, -1), (minor, -1), \n",
    "                  (major, 0), (minor, 0), \n",
    "                  (major, 1), (minor, 1)]\n",
    "    major_minor = choice((major, minor))\n",
    "    chord_number = randint(0, 11)\n",
    "    base_note = cf.base_note(chord_number)\n",
    "    base_note.quarterLength = 2\n",
    "    chord = build_chord(base_note, major_minor)\n",
    "    s = stream.Stream()\n",
    "    s.append(chord)\n",
    "    for i in range(length):\n",
    "        changing_directions = directions.copy()\n",
    "        changing_directions.pop(directions.index((major_minor, 0)))\n",
    "        direction = choice(changing_directions)\n",
    "        chord_number += direction[1]\n",
    "        base_note = cf.base_note(chord_number % 12)\n",
    "        base_note.quarterLength = 2\n",
    "        base_note = transpose_to_fourth_octave(base_note)\n",
    "        current_base_note = get_lowest_note_of_chord(chord)\n",
    "        chord = build_chord_and_select_inversion(base_note, direction[0], current_base_note)\n",
    "        s.append(chord)\n",
    "        major_minor = direction[0]\n",
    "    return s"
   ]
  },
  {
   "cell_type": "code",
   "execution_count": 27,
   "id": "0a317463",
   "metadata": {},
   "outputs": [
    {
     "data": {
      "image/png": "[encoded data removed]",
      "text/plain": [
       "<IPython.core.display.Image object>"
      ]
     },
     "metadata": {
      "image/png": {
       "height": 52,
       "width": 748
      }
     },
     "output_type": "display_data"
    }
   ],
   "source": [
    "chord_stream = create_random_chord_stream(16)\n",
    "chord_stream.show()"
   ]
  },
  {
   "cell_type": "code",
   "execution_count": 28,
   "id": "6bb5d996",
   "metadata": {},
   "outputs": [
    {
     "data": {
      "text/html": [
       "\n",
       "                <div id='midiPlayerDiv2485'></div>\n",
       "                <link rel=\"stylesheet\" href=\"//cuthbertLab.github.io/music21j/css/m21.css\"\n",
       "                    type=\"text/css\" />\n",
       "                \n",
       "                <script>\n",
       "                require.config({\n",
       "                    paths: {'music21': '//cuthbertLab.github.io/music21j/src/music21'}\n",
       "                });\n",
       "                require(['music21'], function() {\n",
       "                               mp = new music21.miditools.MidiPlayer();\n",
       "                               mp.addPlayer('#midiPlayerDiv2485');\n",
       "                               mp.base64Load('data:audio/midi;base64,TVRoZAAAAAYAAQACBABNVHJrAAAAFAD/UQMHoSAA/1gEBAIYCIgA/y8ATVRyawAAAbcA/wMAAOAAQIgAkEFaAJBFWgCQSFqQAIBBAACARQAAgEgAAJA8WgCQP1oAkENakACAPAAAgD8AAIBDAACQQ1oAkEZaAJBKWpAAgEMAAIBGAACASgAAkDxaAJBAWgCQQ1qQAIA8AACAQAAAgEMAAJBDWgCQRloAkEpakACAQwAAgEYAAIBKAACQPFoAkEBaAJBDWpAAgDwAAIBAAACAQwAAkEFaAJBFWgCQSFqQAIBBAACARQAAgEgAAJA8WgCQP1oAkENakACAPAAAgD8AAIBDAACQQ1oAkEZaAJBKWpAAgEMAAIBGAACASgAAkENaAJBHWgCQSlqQAIBDAACARwAAgEoAAJA8WgCQQFoAkENakACAPAAAgEAAAIBDAACQQ1oAkEZaAJBKWpAAgEMAAIBGAACASgAAkDxaAJBAWgCQQ1qQAIA8AACAQAAAgEMAAJBBWgCQRFoAkEhakACAQQAAgEQAAIBIAACQQVoAkEVaAJBIWpAAgEEAAIBFAACASAAAkDxaAJA/WgCQQ1qQAIA8AACAPwAAgEMAAJBBWgCQRVoAkEhakACAQQAAgEUAAIBIAIgA/y8A');\n",
       "                        });\n",
       "                </script>"
      ],
      "text/plain": [
       "<IPython.core.display.HTML object>"
      ]
     },
     "metadata": {},
     "output_type": "display_data"
    }
   ],
   "source": [
    "chord_stream.show('midi')"
   ]
  },
  {
   "cell_type": "markdown",
   "id": "d141b93e",
   "metadata": {},
   "source": [
    "## Rhythm"
   ]
  },
  {
   "cell_type": "code",
   "execution_count": null,
   "id": "f18a43a1",
   "metadata": {},
   "outputs": [],
   "source": []
  },
  {
   "cell_type": "markdown",
   "id": "e4c02aaa",
   "metadata": {},
   "source": [
    "## Never ending Melody\n",
    "\n",
    "By selecting only tones from chords there is no danger having gravely mistoned intervals. The length of the notes can be retrieved from the rythm. For the melody the algorithm can now use a similar approach as before: Starting with a shape of random up and down movements of the intervals it can modify the intervals slightly after one repetition. This ensures that there is always some degree of predictability for the listener while adding some kind of surprise with each measure."
   ]
  },
  {
   "cell_type": "code",
   "execution_count": 29,
   "id": "0279734f",
   "metadata": {},
   "outputs": [],
   "source": [
    "# basistonart wählen\n",
    "# Akkordfolge (2 Akkorde pro Takt, nicht-wechsel erlaubt) für den Satz (movement) wählen\n",
    "  # Akkordfolge muss auf Kadenz enden: I - iv - V - I\n",
    "# Zufälligen Rhythmus für Takte (measures) A und B wählen.\n",
    "  # Prase 2 nutzt A und modifiziert B\n",
    "  # Phrase 3 behält A und behält das modifizierte B\n",
    "  # Phrase 4 modifiziert A und behält das modifizierte B ohne weitere Modifikation\n",
    "# Zufällige Intervalle für die Bewegung in Phrase 1 wählen.\n",
    "  # Intervalle entsprechend der Akkorde in Phrase 2 wiederholen.\n",
    "  # Für Phrase 3 Intervalle an einer zufälligen Stelle modifizieren.\n",
    "  # Modifizierte Intervalle in Phrase 4 möglichst wiederholen.\n",
    "# Für den nächsten Satz (movement) Akkordfolge neu erzeugen, \n",
    "# bei Rhythmus und Intervallen den vorherigen Satz modifizieren.\n",
    "\n",
    "def circle_of_fiths_chord_neighbour(base_tone: note.Note):\n",
    "    pass # C major next to A minor"
   ]
  }
 ],
 "metadata": {
  "kernelspec": {
   "display_name": "Python 3 (ipykernel)",
   "language": "python",
   "name": "python3"
  },
  "language_info": {
   "codemirror_mode": {
    "name": "ipython",
    "version": 3
   },
   "file_extension": ".py",
   "mimetype": "text/x-python",
   "name": "python",
   "nbconvert_exporter": "python",
   "pygments_lexer": "ipython3",
   "version": "3.10.6"
  }
 },
 "nbformat": 4,
 "nbformat_minor": 5
}
