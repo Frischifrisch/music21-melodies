{
 "cells": [
  {
   "cell_type": "markdown",
   "id": "b6d34d40",
   "metadata": {},
   "source": [
    "## Getting started\n",
    "\n",
    "Music21 encapsulates most concepts from music theory in some kind of object. There are pitches, notes intervals chords. Melodies are created by packing notes and chords into stream objects and all the objects come with handy methods to modify them or create related new objects.\n",
    "\n",
    "Because there are a bunch of different classes it is best to import then all in the first line:"
   ]
  },
  {
   "cell_type": "code",
   "execution_count": 1,
   "id": "f4682117",
   "metadata": {},
   "outputs": [],
   "source": [
    "from music21 import *"
   ]
  },
  {
   "cell_type": "markdown",
   "id": "62dbe82a",
   "metadata": {},
   "source": [
    "Creating a note is very easy. It's just a `Note` object from the `note` submodule. You could create it with a `Pitch` object but music21 has short string notations which are very easy: `'C4'` simply creates a C in the fourth octave, the base note of the C major scale. If no duration is given music21 assumes a quarter note but the `quarterLength` parameter sets it right in the constructor. The method `.show()` creates a PNG image of the nostation an the jupyter notebook displadys it directly beneath the cell."
   ]
  },
  {
   "cell_type": "code",
   "execution_count": 2,
   "id": "1ee53867",
   "metadata": {},
   "outputs": [
    {
     "data": {
      "image/png": "[encoded data removed]",
      "text/plain": [
       "<IPython.core.display.Image object>"
      ]
     },
     "metadata": {
      "image/png": {
       "height": 49,
       "width": 206
      }
     },
     "output_type": "display_data"
    }
   ],
   "source": [
    "c = note.Note('C4', quarterLength=4)\n",
    "c.show()"
   ]
  },
  {
   "cell_type": "markdown",
   "id": "b017299e",
   "metadata": {},
   "source": [
    "music21 can also create a midi version of the object. You can unse the embedded player to play it inside of the notebook."
   ]
  },
  {
   "cell_type": "code",
   "execution_count": 3,
   "id": "e7589f37",
   "metadata": {},
   "outputs": [
    {
     "data": {
      "text/html": [
       "\n",
       "                <div id='midiPlayerDiv64'></div>\n",
       "                <link rel=\"stylesheet\" href=\"//cuthbertLab.github.io/music21j/css/m21.css\"\n",
       "                    type=\"text/css\" />\n",
       "                \n",
       "                <script>\n",
       "                require.config({\n",
       "                    paths: {'music21': '//cuthbertLab.github.io/music21j/src/music21'}\n",
       "                });\n",
       "                require(['music21'], function() {\n",
       "                               mp = new music21.miditools.MidiPlayer();\n",
       "                               mp.addPlayer('#midiPlayerDiv64');\n",
       "                               mp.base64Load('data:audio/midi;base64,TVRoZAAAAAYAAQACBABNVHJrAAAAFAD/UQMHoSAA/1gEBAIYCIgA/y8ATVRyawAAABcA/wMAAOAAQIgAkDxaoACAPACIAP8vAA==');\n",
       "                        });\n",
       "                </script>"
      ],
      "text/plain": [
       "<IPython.core.display.HTML object>"
      ]
     },
     "metadata": {},
     "output_type": "display_data"
    }
   ],
   "source": [
    "c.show('midi')"
   ]
  },
  {
   "cell_type": "markdown",
   "id": "effa57d8",
   "metadata": {},
   "source": [
    "## Creating a random chord sequence\n",
    "\n",
    "By transposing the base note along the intervals major third `M3`, minor third `m3` and perfect fith `P5` one can create chords. Building a random sequence out of these creates a first algorithmic composition."
   ]
  },
  {
   "cell_type": "code",
   "execution_count": 4,
   "id": "1e6e52ae",
   "metadata": {},
   "outputs": [
    {
     "data": {
      "image/png": "[encoded data removed]",
      "text/plain": [
       "<IPython.core.display.Image object>"
      ]
     },
     "metadata": {
      "image/png": {
       "height": 49,
       "width": 201
      }
     },
     "output_type": "display_data"
    }
   ],
   "source": [
    "e = c.transpose('M3')\n",
    "e.show()"
   ]
  },
  {
   "cell_type": "code",
   "execution_count": 5,
   "id": "7b00aa0d",
   "metadata": {},
   "outputs": [
    {
     "data": {
      "image/png": "[encoded data removed]",
      "text/plain": [
       "<IPython.core.display.Image object>"
      ]
     },
     "metadata": {
      "image/png": {
       "height": 49,
       "width": 201
      }
     },
     "output_type": "display_data"
    }
   ],
   "source": [
    "g = e.transpose('m3')\n",
    "g.show()"
   ]
  },
  {
   "cell_type": "code",
   "execution_count": 6,
   "id": "9e8693e3",
   "metadata": {},
   "outputs": [
    {
     "data": {
      "image/png": "[encoded data removed]",
      "text/plain": [
       "<IPython.core.display.Image object>"
      ]
     },
     "metadata": {
      "image/png": {
       "height": 49,
       "width": 206
      }
     },
     "output_type": "display_data"
    }
   ],
   "source": [
    "c_dur = chord.Chord([c, e, g])\n",
    "c_dur.show()"
   ]
  },
  {
   "cell_type": "code",
   "execution_count": 7,
   "id": "0e8562dc",
   "metadata": {},
   "outputs": [
    {
     "data": {
      "text/html": [
       "\n",
       "                <div id='midiPlayerDiv231'></div>\n",
       "                <link rel=\"stylesheet\" href=\"//cuthbertLab.github.io/music21j/css/m21.css\"\n",
       "                    type=\"text/css\" />\n",
       "                \n",
       "                <script>\n",
       "                require.config({\n",
       "                    paths: {'music21': '//cuthbertLab.github.io/music21j/src/music21'}\n",
       "                });\n",
       "                require(['music21'], function() {\n",
       "                               mp = new music21.miditools.MidiPlayer();\n",
       "                               mp.addPlayer('#midiPlayerDiv231');\n",
       "                               mp.base64Load('data:audio/midi;base64,TVRoZAAAAAYAAQACBABNVHJrAAAAFAD/UQMHoSAA/1gEBAIYCIgA/y8ATVRyawAAACcA/wMAAOAAQIgAkDxaAJBAWgCQQ1qgAIA8AACAQAAAgEMAiAD/LwA=');\n",
       "                        });\n",
       "                </script>"
      ],
      "text/plain": [
       "<IPython.core.display.HTML object>"
      ]
     },
     "metadata": {},
     "output_type": "display_data"
    }
   ],
   "source": [
    "c_dur.show('midi')"
   ]
  },
  {
   "cell_type": "code",
   "execution_count": 8,
   "id": "d97af785",
   "metadata": {},
   "outputs": [],
   "source": [
    "from enum import Enum\n",
    "class MajorMinor(Enum):\n",
    "    MAJOR = 1\n",
    "    MINOR = 0"
   ]
  },
  {
   "cell_type": "code",
   "execution_count": 9,
   "id": "432c9721",
   "metadata": {},
   "outputs": [],
   "source": [
    "def build_chord(base_tone: note.Note, major_minor: MajorMinor = MajorMinor.MAJOR):\n",
    "    intervals = ('M3', 'm3') if major_minor == MajorMinor.MAJOR else ('m3', 'M3')\n",
    "    second_tone = base_tone.transpose(intervals[0])\n",
    "    third_tone = second_tone.transpose(intervals[1])\n",
    "    return chord.Chord([base_tone, second_tone, third_tone])"
   ]
  },
  {
   "cell_type": "code",
   "execution_count": 10,
   "id": "e3348696",
   "metadata": {},
   "outputs": [
    {
     "data": {
      "image/png": "[encoded data removed]",
      "text/plain": [
       "<IPython.core.display.Image object>"
      ]
     },
     "metadata": {
      "image/png": {
       "height": 49,
       "width": 206
      }
     },
     "output_type": "display_data"
    }
   ],
   "source": [
    "c_dur = build_chord(c, MajorMinor.MAJOR)\n",
    "c_dur.show()"
   ]
  },
  {
   "cell_type": "code",
   "execution_count": 11,
   "id": "a3ce947d",
   "metadata": {},
   "outputs": [
    {
     "data": {
      "image/png": "[encoded data removed]",
      "text/plain": [
       "<IPython.core.display.Image object>"
      ]
     },
     "metadata": {
      "image/png": {
       "height": 49,
       "width": 201
      }
     },
     "output_type": "display_data"
    }
   ],
   "source": [
    "g = c.transpose('P5')\n",
    "g.show()"
   ]
  },
  {
   "cell_type": "code",
   "execution_count": 12,
   "id": "23be54b6",
   "metadata": {},
   "outputs": [
    {
     "data": {
      "image/png": "[encoded data removed]",
      "text/plain": [
       "<IPython.core.display.Image object>"
      ]
     },
     "metadata": {
      "image/png": {
       "height": 49,
       "width": 200
      }
     },
     "output_type": "display_data"
    }
   ],
   "source": [
    "g_dur = build_chord(g, MajorMinor.MAJOR)\n",
    "g_dur.show()"
   ]
  },
  {
   "cell_type": "code",
   "execution_count": 13,
   "id": "a110d1e2",
   "metadata": {},
   "outputs": [
    {
     "data": {
      "text/html": [
       "\n",
       "                <div id='midiPlayerDiv403'></div>\n",
       "                <link rel=\"stylesheet\" href=\"//cuthbertLab.github.io/music21j/css/m21.css\"\n",
       "                    type=\"text/css\" />\n",
       "                \n",
       "                <script>\n",
       "                require.config({\n",
       "                    paths: {'music21': '//cuthbertLab.github.io/music21j/src/music21'}\n",
       "                });\n",
       "                require(['music21'], function() {\n",
       "                               mp = new music21.miditools.MidiPlayer();\n",
       "                               mp.addPlayer('#midiPlayerDiv403');\n",
       "                               mp.base64Load('data:audio/midi;base64,TVRoZAAAAAYAAQACBABNVHJrAAAAFAD/UQMHoSAA/1gEBAIYCIgA/y8ATVRyawAAAEAA/wMAAOAAQIgAkDxaAJBAWgCQQ1qgAIA8AACAQAAAgEMAAJBDWgCQR1oAkEpaoACAQwAAgEcAAIBKAIgA/y8A');\n",
       "                        });\n",
       "                </script>"
      ],
      "text/plain": [
       "<IPython.core.display.HTML object>"
      ]
     },
     "metadata": {},
     "output_type": "display_data"
    }
   ],
   "source": [
    "stream.Stream([c_dur, g_dur]).show('midi')"
   ]
  },
  {
   "cell_type": "code",
   "execution_count": 14,
   "id": "21eaf230",
   "metadata": {},
   "outputs": [
    {
     "name": "stdout",
     "output_type": "stream",
     "text": [
      "5\n"
     ]
    },
    {
     "data": {
      "image/png": "[encoded data removed]",
      "text/plain": [
       "<IPython.core.display.Image object>"
      ]
     },
     "metadata": {
      "image/png": {
       "height": 49,
       "width": 201
      }
     },
     "output_type": "display_data"
    }
   ],
   "source": [
    "d2 = g.transpose('P5')\n",
    "print(d2.octave)\n",
    "d1 = note.Note('D4', quarterLength=4)\n",
    "chord.Chord([d1, d2]).show()"
   ]
  },
  {
   "cell_type": "code",
   "execution_count": 15,
   "id": "ca26085e",
   "metadata": {},
   "outputs": [],
   "source": [
    "def transpose_to_fourth_octave(note: note.Note):\n",
    "    while note.octave > 4:\n",
    "        note = note.transpose('P-8')\n",
    "    while note.octave < 4:\n",
    "        note = note.transpose('P8')\n",
    "    return note"
   ]
  },
  {
   "cell_type": "code",
   "execution_count": 16,
   "id": "9677dd9e",
   "metadata": {},
   "outputs": [
    {
     "data": {
      "image/png": "[encoded data removed]",
      "text/plain": [
       "<IPython.core.display.Image object>"
      ]
     },
     "metadata": {
      "image/png": {
       "height": 49,
       "width": 272
      }
     },
     "output_type": "display_data"
    }
   ],
   "source": [
    "stream.Stream([d1, transpose_to_fourth_octave(d2)]).show()"
   ]
  },
  {
   "cell_type": "code",
   "execution_count": 17,
   "id": "9140da03",
   "metadata": {},
   "outputs": [],
   "source": [
    "from random import choice\n",
    "def create_random_chord_stream(length, note_length=2):\n",
    "    directions = [(MajorMinor.MAJOR, 'P-5'), (MajorMinor.MINOR, 'P-5'), \n",
    "                  (MajorMinor.MAJOR, 0), (MajorMinor.MINOR, 0), \n",
    "                  (MajorMinor.MAJOR, 'P5'), (MajorMinor.MINOR, 'P5')]\n",
    "    major_minor = choice((MajorMinor.MAJOR, MajorMinor.MINOR))\n",
    "    last_chord = build_chord(note.Note('C4', quarterLength=note_length), major_minor)\n",
    "    s = stream.Stream()\n",
    "    for i in range(length):\n",
    "        changing_directions = directions.copy()\n",
    "        changing_directions.pop(directions.index((major_minor, 0)))\n",
    "        direction = choice(changing_directions)\n",
    "        new_chord = build_chord(transpose_to_fourth_octave(\n",
    "            last_chord.notes[0].transpose(direction[1])), direction[0])\n",
    "        s.append(new_chord)\n",
    "        last_chord = new_chord\n",
    "        major_minor = direction[0]\n",
    "    return s"
   ]
  },
  {
   "cell_type": "code",
   "execution_count": 18,
   "id": "6cd5f423",
   "metadata": {},
   "outputs": [
    {
     "name": "stdout",
     "output_type": "stream",
     "text": [
      "(<MajorMinor.MINOR: 0>, 'P-5')\n",
      "(<MajorMinor.MAJOR: 1>, 0)\n",
      "(<MajorMinor.MINOR: 0>, 'P5')\n",
      "(<MajorMinor.MAJOR: 1>, 'P5')\n",
      "(<MajorMinor.MINOR: 0>, 0)\n",
      "(<MajorMinor.MAJOR: 1>, 0)\n",
      "(<MajorMinor.MINOR: 0>, 'P5')\n",
      "(<MajorMinor.MAJOR: 1>, 'P5')\n",
      "(<MajorMinor.MAJOR: 1>, 'P-5')\n",
      "(<MajorMinor.MINOR: 0>, 0)\n",
      "(<MajorMinor.MAJOR: 1>, 0)\n",
      "(<MajorMinor.MAJOR: 1>, 'P-5')\n",
      "(<MajorMinor.MAJOR: 1>, 'P5')\n",
      "(<MajorMinor.MAJOR: 1>, 'P5')\n",
      "(<MajorMinor.MAJOR: 1>, 'P5')\n",
      "(<MajorMinor.MINOR: 0>, 'P5')\n"
     ]
    },
    {
     "data": {
      "image/png": "[encoded data removed]",
      "text/plain": [
       "<IPython.core.display.Image object>"
      ]
     },
     "metadata": {
      "image/png": {
       "height": 51,
       "width": 674
      }
     },
     "output_type": "display_data"
    }
   ],
   "source": [
    "chord_stream = create_random_chord_stream(16)\n",
    "chord_stream.show()"
   ]
  },
  {
   "cell_type": "code",
   "execution_count": null,
   "id": "a8541feb",
   "metadata": {},
   "outputs": [
    {
     "name": "stdout",
     "output_type": "stream",
     "text": [
      "(<MajorMinor.MAJOR: 1>, 'P-5')\n",
      "(<MajorMinor.MAJOR: 1>, 'P-5')\n",
      "(<MajorMinor.MINOR: 0>, 0)\n",
      "(<MajorMinor.MAJOR: 1>, 0)\n",
      "(<MajorMinor.MINOR: 0>, 'P5')\n",
      "(<MajorMinor.MAJOR: 1>, 'P5')\n",
      "(<MajorMinor.MINOR: 0>, 'P5')\n",
      "(<MajorMinor.MINOR: 0>, 'P-5')\n",
      "(<MajorMinor.MAJOR: 1>, 0)\n",
      "(<MajorMinor.MAJOR: 1>, 'P5')\n",
      "(<MajorMinor.MAJOR: 1>, 'P-5')\n",
      "(<MajorMinor.MINOR: 0>, 0)\n",
      "(<MajorMinor.MINOR: 0>, 'P-5')\n",
      "(<MajorMinor.MINOR: 0>, 'P-5')\n",
      "(<MajorMinor.MAJOR: 1>, 'P5')\n",
      "(<MajorMinor.MINOR: 0>, 'P-5')\n",
      "(<MajorMinor.MAJOR: 1>, 'P-5')\n",
      "(<MajorMinor.MAJOR: 1>, 'P-5')\n",
      "(<MajorMinor.MINOR: 0>, 'P5')\n",
      "(<MajorMinor.MAJOR: 1>, 'P-5')\n",
      "(<MajorMinor.MAJOR: 1>, 'P-5')\n",
      "(<MajorMinor.MAJOR: 1>, 'P-5')\n",
      "(<MajorMinor.MAJOR: 1>, 'P-5')\n",
      "(<MajorMinor.MINOR: 0>, 0)\n",
      "(<MajorMinor.MINOR: 0>, 'P-5')\n",
      "(<MajorMinor.MAJOR: 1>, 0)\n",
      "(<MajorMinor.MINOR: 0>, 'P5')\n",
      "(<MajorMinor.MAJOR: 1>, 0)\n",
      "(<MajorMinor.MAJOR: 1>, 'P5')\n",
      "(<MajorMinor.MINOR: 0>, 'P-5')\n",
      "(<MajorMinor.MINOR: 0>, 'P5')\n",
      "(<MajorMinor.MINOR: 0>, 'P-5')\n",
      "(<MajorMinor.MINOR: 0>, 'P-5')\n",
      "(<MajorMinor.MINOR: 0>, 'P5')\n",
      "(<MajorMinor.MAJOR: 1>, 'P5')\n",
      "(<MajorMinor.MINOR: 0>, 'P-5')\n",
      "(<MajorMinor.MAJOR: 1>, 'P-5')\n",
      "(<MajorMinor.MAJOR: 1>, 'P5')\n",
      "(<MajorMinor.MINOR: 0>, 'P-5')\n",
      "(<MajorMinor.MAJOR: 1>, 0)\n",
      "(<MajorMinor.MINOR: 0>, 0)\n",
      "(<MajorMinor.MAJOR: 1>, 'P-5')\n",
      "(<MajorMinor.MAJOR: 1>, 'P-5')\n",
      "(<MajorMinor.MINOR: 0>, 'P-5')\n",
      "(<MajorMinor.MINOR: 0>, 'P-5')\n",
      "(<MajorMinor.MINOR: 0>, 'P-5')\n",
      "(<MajorMinor.MAJOR: 1>, 0)\n",
      "(<MajorMinor.MINOR: 0>, 'P-5')\n",
      "(<MajorMinor.MAJOR: 1>, 'P-5')\n",
      "(<MajorMinor.MAJOR: 1>, 'P5')\n",
      "(<MajorMinor.MINOR: 0>, 0)\n"
     ]
    }
   ],
   "source": [
    "chord_stream.show('midi')"
   ]
  },
  {
   "cell_type": "markdown",
   "id": "4afd6261",
   "metadata": {},
   "source": [
    "## Chord inversions\n",
    "\n",
    "By transposing some notes of a chord a full octave inversions of the chord are created. These can sound lower than the previous chord even if the base tone of the chord is a fith higher."
   ]
  },
  {
   "cell_type": "code",
   "execution_count": null,
   "id": "987f0e04",
   "metadata": {},
   "outputs": [],
   "source": []
  }
 ],
 "metadata": {
  "kernelspec": {
   "display_name": "Python 3 (ipykernel)",
   "language": "python",
   "name": "python3"
  },
  "language_info": {
   "codemirror_mode": {
    "name": "ipython",
    "version": 3
   },
   "file_extension": ".py",
   "mimetype": "text/x-python",
   "name": "python",
   "nbconvert_exporter": "python",
   "pygments_lexer": "ipython3",
   "version": "3.10.6"
  }
 },
 "nbformat": 4,
 "nbformat_minor": 5
}
